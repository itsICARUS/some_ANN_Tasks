{
  "nbformat": 4,
  "nbformat_minor": 0,
  "metadata": {
    "colab": {
      "provenance": []
    },
    "kernelspec": {
      "name": "python3",
      "display_name": "Python 3"
    },
    "language_info": {
      "name": "python"
    },
    "widgets": {
      "application/vnd.jupyter.widget-state+json": {
        "d041976ad15245a79bf25425c9f65cfb": {
          "model_module": "@jupyter-widgets/controls",
          "model_name": "HBoxModel",
          "model_module_version": "1.5.0",
          "state": {
            "_dom_classes": [],
            "_model_module": "@jupyter-widgets/controls",
            "_model_module_version": "1.5.0",
            "_model_name": "HBoxModel",
            "_view_count": null,
            "_view_module": "@jupyter-widgets/controls",
            "_view_module_version": "1.5.0",
            "_view_name": "HBoxView",
            "box_style": "",
            "children": [
              "IPY_MODEL_5884cd60655943cea4006bedf71b1efa",
              "IPY_MODEL_09afc0c993954da799e06906c1ff5944",
              "IPY_MODEL_2573c581d71f44c0affdbb2eea4ac3f6"
            ],
            "layout": "IPY_MODEL_35419adc649b4b86a839c505b3da30e3"
          }
        },
        "5884cd60655943cea4006bedf71b1efa": {
          "model_module": "@jupyter-widgets/controls",
          "model_name": "HTMLModel",
          "model_module_version": "1.5.0",
          "state": {
            "_dom_classes": [],
            "_model_module": "@jupyter-widgets/controls",
            "_model_module_version": "1.5.0",
            "_model_name": "HTMLModel",
            "_view_count": null,
            "_view_module": "@jupyter-widgets/controls",
            "_view_module_version": "1.5.0",
            "_view_name": "HTMLView",
            "description": "",
            "description_tooltip": null,
            "layout": "IPY_MODEL_fc53e87b807d48fa8617601a310275df",
            "placeholder": "​",
            "style": "IPY_MODEL_4cc3da014b17427cbe59c925c1e6f16e",
            "value": "100%"
          }
        },
        "09afc0c993954da799e06906c1ff5944": {
          "model_module": "@jupyter-widgets/controls",
          "model_name": "FloatProgressModel",
          "model_module_version": "1.5.0",
          "state": {
            "_dom_classes": [],
            "_model_module": "@jupyter-widgets/controls",
            "_model_module_version": "1.5.0",
            "_model_name": "FloatProgressModel",
            "_view_count": null,
            "_view_module": "@jupyter-widgets/controls",
            "_view_module_version": "1.5.0",
            "_view_name": "ProgressView",
            "bar_style": "success",
            "description": "",
            "description_tooltip": null,
            "layout": "IPY_MODEL_80f081bc384c4704a9ff73249c59b4f7",
            "max": 170498071,
            "min": 0,
            "orientation": "horizontal",
            "style": "IPY_MODEL_f119d9ec0acc4686b6499063a7afe3a9",
            "value": 170498071
          }
        },
        "2573c581d71f44c0affdbb2eea4ac3f6": {
          "model_module": "@jupyter-widgets/controls",
          "model_name": "HTMLModel",
          "model_module_version": "1.5.0",
          "state": {
            "_dom_classes": [],
            "_model_module": "@jupyter-widgets/controls",
            "_model_module_version": "1.5.0",
            "_model_name": "HTMLModel",
            "_view_count": null,
            "_view_module": "@jupyter-widgets/controls",
            "_view_module_version": "1.5.0",
            "_view_name": "HTMLView",
            "description": "",
            "description_tooltip": null,
            "layout": "IPY_MODEL_7a3ee56bb6734c73a111f5c23134e525",
            "placeholder": "​",
            "style": "IPY_MODEL_6d658ecf1cfd4c81b6ab1acaf6d9f11c",
            "value": " 170498071/170498071 [00:13&lt;00:00, 13112290.35it/s]"
          }
        },
        "35419adc649b4b86a839c505b3da30e3": {
          "model_module": "@jupyter-widgets/base",
          "model_name": "LayoutModel",
          "model_module_version": "1.2.0",
          "state": {
            "_model_module": "@jupyter-widgets/base",
            "_model_module_version": "1.2.0",
            "_model_name": "LayoutModel",
            "_view_count": null,
            "_view_module": "@jupyter-widgets/base",
            "_view_module_version": "1.2.0",
            "_view_name": "LayoutView",
            "align_content": null,
            "align_items": null,
            "align_self": null,
            "border": null,
            "bottom": null,
            "display": null,
            "flex": null,
            "flex_flow": null,
            "grid_area": null,
            "grid_auto_columns": null,
            "grid_auto_flow": null,
            "grid_auto_rows": null,
            "grid_column": null,
            "grid_gap": null,
            "grid_row": null,
            "grid_template_areas": null,
            "grid_template_columns": null,
            "grid_template_rows": null,
            "height": null,
            "justify_content": null,
            "justify_items": null,
            "left": null,
            "margin": null,
            "max_height": null,
            "max_width": null,
            "min_height": null,
            "min_width": null,
            "object_fit": null,
            "object_position": null,
            "order": null,
            "overflow": null,
            "overflow_x": null,
            "overflow_y": null,
            "padding": null,
            "right": null,
            "top": null,
            "visibility": null,
            "width": null
          }
        },
        "fc53e87b807d48fa8617601a310275df": {
          "model_module": "@jupyter-widgets/base",
          "model_name": "LayoutModel",
          "model_module_version": "1.2.0",
          "state": {
            "_model_module": "@jupyter-widgets/base",
            "_model_module_version": "1.2.0",
            "_model_name": "LayoutModel",
            "_view_count": null,
            "_view_module": "@jupyter-widgets/base",
            "_view_module_version": "1.2.0",
            "_view_name": "LayoutView",
            "align_content": null,
            "align_items": null,
            "align_self": null,
            "border": null,
            "bottom": null,
            "display": null,
            "flex": null,
            "flex_flow": null,
            "grid_area": null,
            "grid_auto_columns": null,
            "grid_auto_flow": null,
            "grid_auto_rows": null,
            "grid_column": null,
            "grid_gap": null,
            "grid_row": null,
            "grid_template_areas": null,
            "grid_template_columns": null,
            "grid_template_rows": null,
            "height": null,
            "justify_content": null,
            "justify_items": null,
            "left": null,
            "margin": null,
            "max_height": null,
            "max_width": null,
            "min_height": null,
            "min_width": null,
            "object_fit": null,
            "object_position": null,
            "order": null,
            "overflow": null,
            "overflow_x": null,
            "overflow_y": null,
            "padding": null,
            "right": null,
            "top": null,
            "visibility": null,
            "width": null
          }
        },
        "4cc3da014b17427cbe59c925c1e6f16e": {
          "model_module": "@jupyter-widgets/controls",
          "model_name": "DescriptionStyleModel",
          "model_module_version": "1.5.0",
          "state": {
            "_model_module": "@jupyter-widgets/controls",
            "_model_module_version": "1.5.0",
            "_model_name": "DescriptionStyleModel",
            "_view_count": null,
            "_view_module": "@jupyter-widgets/base",
            "_view_module_version": "1.2.0",
            "_view_name": "StyleView",
            "description_width": ""
          }
        },
        "80f081bc384c4704a9ff73249c59b4f7": {
          "model_module": "@jupyter-widgets/base",
          "model_name": "LayoutModel",
          "model_module_version": "1.2.0",
          "state": {
            "_model_module": "@jupyter-widgets/base",
            "_model_module_version": "1.2.0",
            "_model_name": "LayoutModel",
            "_view_count": null,
            "_view_module": "@jupyter-widgets/base",
            "_view_module_version": "1.2.0",
            "_view_name": "LayoutView",
            "align_content": null,
            "align_items": null,
            "align_self": null,
            "border": null,
            "bottom": null,
            "display": null,
            "flex": null,
            "flex_flow": null,
            "grid_area": null,
            "grid_auto_columns": null,
            "grid_auto_flow": null,
            "grid_auto_rows": null,
            "grid_column": null,
            "grid_gap": null,
            "grid_row": null,
            "grid_template_areas": null,
            "grid_template_columns": null,
            "grid_template_rows": null,
            "height": null,
            "justify_content": null,
            "justify_items": null,
            "left": null,
            "margin": null,
            "max_height": null,
            "max_width": null,
            "min_height": null,
            "min_width": null,
            "object_fit": null,
            "object_position": null,
            "order": null,
            "overflow": null,
            "overflow_x": null,
            "overflow_y": null,
            "padding": null,
            "right": null,
            "top": null,
            "visibility": null,
            "width": null
          }
        },
        "f119d9ec0acc4686b6499063a7afe3a9": {
          "model_module": "@jupyter-widgets/controls",
          "model_name": "ProgressStyleModel",
          "model_module_version": "1.5.0",
          "state": {
            "_model_module": "@jupyter-widgets/controls",
            "_model_module_version": "1.5.0",
            "_model_name": "ProgressStyleModel",
            "_view_count": null,
            "_view_module": "@jupyter-widgets/base",
            "_view_module_version": "1.2.0",
            "_view_name": "StyleView",
            "bar_color": null,
            "description_width": ""
          }
        },
        "7a3ee56bb6734c73a111f5c23134e525": {
          "model_module": "@jupyter-widgets/base",
          "model_name": "LayoutModel",
          "model_module_version": "1.2.0",
          "state": {
            "_model_module": "@jupyter-widgets/base",
            "_model_module_version": "1.2.0",
            "_model_name": "LayoutModel",
            "_view_count": null,
            "_view_module": "@jupyter-widgets/base",
            "_view_module_version": "1.2.0",
            "_view_name": "LayoutView",
            "align_content": null,
            "align_items": null,
            "align_self": null,
            "border": null,
            "bottom": null,
            "display": null,
            "flex": null,
            "flex_flow": null,
            "grid_area": null,
            "grid_auto_columns": null,
            "grid_auto_flow": null,
            "grid_auto_rows": null,
            "grid_column": null,
            "grid_gap": null,
            "grid_row": null,
            "grid_template_areas": null,
            "grid_template_columns": null,
            "grid_template_rows": null,
            "height": null,
            "justify_content": null,
            "justify_items": null,
            "left": null,
            "margin": null,
            "max_height": null,
            "max_width": null,
            "min_height": null,
            "min_width": null,
            "object_fit": null,
            "object_position": null,
            "order": null,
            "overflow": null,
            "overflow_x": null,
            "overflow_y": null,
            "padding": null,
            "right": null,
            "top": null,
            "visibility": null,
            "width": null
          }
        },
        "6d658ecf1cfd4c81b6ab1acaf6d9f11c": {
          "model_module": "@jupyter-widgets/controls",
          "model_name": "DescriptionStyleModel",
          "model_module_version": "1.5.0",
          "state": {
            "_model_module": "@jupyter-widgets/controls",
            "_model_module_version": "1.5.0",
            "_model_name": "DescriptionStyleModel",
            "_view_count": null,
            "_view_module": "@jupyter-widgets/base",
            "_view_module_version": "1.2.0",
            "_view_name": "StyleView",
            "description_width": ""
          }
        }
      }
    },
    "accelerator": "GPU",
    "gpuClass": "standard"
  },
  "cells": [
    {
      "cell_type": "code",
      "execution_count": null,
      "metadata": {
        "id": "qNqH8mhXChNm"
      },
      "outputs": [],
      "source": [
        "\n",
        "import numpy as np\n",
        "import pandas as pd\n",
        "import matplotlib.pyplot as plt\n",
        "\n",
        "from torch.autograd import Variable\n",
        "from torch.utils.data import Dataset, DataLoader\n",
        "from sklearn.metrics import confusion_matrix\n",
        "\n",
        "import os\n",
        "import torch\n",
        "import torchvision\n",
        "import torchvision.transforms as transforms\n",
        "from torch import nn\n",
        "from torch.utils.data import DataLoader\n",
        "from torchvision import datasets, transforms\n"
      ]
    },
    {
      "cell_type": "code",
      "source": [
        "train_set = datasets.CIFAR10(\"./data\", download=True, transform=\n",
        "                                                transforms.Compose([transforms.ToTensor()]))\n",
        "test_set = datasets.CIFAR10(\"./data\", download=True, train=False, transform=\n",
        "                                               transforms.Compose([transforms.ToTensor()])) "
      ],
      "metadata": {
        "colab": {
          "base_uri": "https://localhost:8080/",
          "height": 101,
          "referenced_widgets": [
            "d041976ad15245a79bf25425c9f65cfb",
            "5884cd60655943cea4006bedf71b1efa",
            "09afc0c993954da799e06906c1ff5944",
            "2573c581d71f44c0affdbb2eea4ac3f6",
            "35419adc649b4b86a839c505b3da30e3",
            "fc53e87b807d48fa8617601a310275df",
            "4cc3da014b17427cbe59c925c1e6f16e",
            "80f081bc384c4704a9ff73249c59b4f7",
            "f119d9ec0acc4686b6499063a7afe3a9",
            "7a3ee56bb6734c73a111f5c23134e525",
            "6d658ecf1cfd4c81b6ab1acaf6d9f11c"
          ]
        },
        "id": "gGSG_WonrTFN",
        "outputId": "d8520045-489a-4389-cd4d-3380b0ed8158"
      },
      "execution_count": null,
      "outputs": [
        {
          "output_type": "stream",
          "name": "stdout",
          "text": [
            "Downloading https://www.cs.toronto.edu/~kriz/cifar-10-python.tar.gz to ./data/cifar-10-python.tar.gz\n"
          ]
        },
        {
          "output_type": "display_data",
          "data": {
            "text/plain": [
              "  0%|          | 0/170498071 [00:00<?, ?it/s]"
            ],
            "application/vnd.jupyter.widget-view+json": {
              "version_major": 2,
              "version_minor": 0,
              "model_id": "d041976ad15245a79bf25425c9f65cfb"
            }
          },
          "metadata": {}
        },
        {
          "output_type": "stream",
          "name": "stdout",
          "text": [
            "Extracting ./data/cifar-10-python.tar.gz to ./data\n",
            "Files already downloaded and verified\n"
          ]
        }
      ]
    },
    {
      "cell_type": "code",
      "source": [
        "train_loader = torch.utils.data.DataLoader(train_set, \n",
        "                                           batch_size=100)\n",
        "test_loader = torch.utils.data.DataLoader(test_set,\n",
        "                                          batch_size=100)"
      ],
      "metadata": {
        "id": "k9tYVlBTEVmX"
      },
      "execution_count": null,
      "outputs": []
    },
    {
      "cell_type": "markdown",
      "source": [
        "10 types\n",
        "\n",
        "Making a method that return the name of class for the label number. ex. if the label is 5, we return dog."
      ],
      "metadata": {
        "id": "-LaY233tEggm"
      }
    },
    {
      "cell_type": "code",
      "source": [
        "def output_label(label):\n",
        "    output_mapping = {\n",
        "                 0: \"airplane\",\n",
        "                 1: \"automobile\",\n",
        "                 2: \"bird\",\n",
        "                 3: \"cat\",\n",
        "                 4: \"deer\", \n",
        "                 5: \"dog\", \n",
        "                 6: \"frog\",\n",
        "                 7: \"horse\",\n",
        "                 8: \"ship\",\n",
        "                 9: \"truck\"\n",
        "                 }\n",
        "    input = (label.item() if type(label) == torch.Tensor else label)\n",
        "    return output_mapping[input]"
      ],
      "metadata": {
        "id": "gJEWOM5rEf0W"
      },
      "execution_count": null,
      "outputs": []
    },
    {
      "cell_type": "markdown",
      "source": [
        "get device for training"
      ],
      "metadata": {
        "id": "JujE24nUE6dN"
      }
    },
    {
      "cell_type": "code",
      "source": [
        "device = \"cuda:0\" if torch.cuda.is_available() else \"cpu\"\n",
        "print(f\"Using {device} device\")"
      ],
      "metadata": {
        "colab": {
          "base_uri": "https://localhost:8080/"
        },
        "id": "t9LK2FWrEz56",
        "outputId": "cd71c54a-47bc-48f7-a349-330da6f173fd"
      },
      "execution_count": null,
      "outputs": [
        {
          "output_type": "stream",
          "name": "stdout",
          "text": [
            "Using cuda:0 device\n"
          ]
        }
      ]
    },
    {
      "cell_type": "code",
      "source": [
        "from sklearn.utils.extmath import softmax\n",
        "class NeuralNetwork(nn.Module):\n",
        "    def __init__(self):\n",
        "        super(NeuralNetwork, self).__init__()\n",
        "        self.flatten = nn.Flatten()\n",
        "        self.lrelu = nn.LeakyReLU(0.01,False)\n",
        "        self.conv1 = nn.Conv2d(in_channels=3,out_channels=32, kernel_size=3, padding=1)\n",
        "        self.batch1 = nn.BatchNorm2d(32)\n",
        "        self.conv2 = nn.Conv2d(in_channels=32, out_channels=64, kernel_size=3, padding=1)\n",
        "        self.batch2 = nn.BatchNorm2d(64)\n",
        "        self.conv3 = nn.Conv2d(in_channels=64, out_channels=128, kernel_size=3, padding=1)\n",
        "        self.batch3 = nn.BatchNorm2d(128)\n",
        "        self.conv4 = nn.Conv2d(in_channels=128, out_channels=128, kernel_size=3, padding=1)\n",
        "        self.max_pool = nn.MaxPool2d(kernel_size=2, stride=2)\n",
        "        self.fully_connected = nn.Sequential(\n",
        "            nn.Linear(2*2*128, 512),\n",
        "            nn.LeakyReLU(),\n",
        "            nn.Dropout(0.25),\n",
        "            nn.Linear(512, 512),\n",
        "            nn.LeakyReLU(),\n",
        "            nn.Dropout(0.25),\n",
        "            nn.Linear(512, 10),\n",
        "            nn.LeakyReLU(),\n",
        "        )\n",
        "\n",
        "    def forward(self, x):\n",
        "      x = self.lrelu(self.conv1(x))\n",
        "      x = self.max_pool(self.lrelu(self.batch2(self.conv2(x))))\n",
        "      xd = self.max_pool(self.lrelu(self.batch3(self.conv3(x))))\n",
        "      x = self.lrelu(self.batch3(self.conv4(xd)))\n",
        "      x = self.lrelu(self.batch3(self.conv4(x)))\n",
        "      xd = self.max_pool(self.lrelu(self.conv4(x)+xd))\n",
        "      x = self.max_pool(self.lrelu(self.batch3(self.conv4(xd))))\n",
        "      x = self.flatten(x)\n",
        "      logits = self.fully_connected(x)\n",
        "      return logits\n",
        "model = NeuralNetwork().to(device)\n",
        "print(model)"
      ],
      "metadata": {
        "id": "mPhkw4lrFQ2t",
        "colab": {
          "base_uri": "https://localhost:8080/"
        },
        "outputId": "7f9fd2e1-a404-4671-b100-8ec0e8a08307"
      },
      "execution_count": null,
      "outputs": [
        {
          "output_type": "stream",
          "name": "stdout",
          "text": [
            "NeuralNetwork(\n",
            "  (flatten): Flatten(start_dim=1, end_dim=-1)\n",
            "  (lrelu): LeakyReLU(negative_slope=0.01)\n",
            "  (conv1): Conv2d(3, 32, kernel_size=(3, 3), stride=(1, 1), padding=(1, 1))\n",
            "  (batch1): BatchNorm2d(32, eps=1e-05, momentum=0.1, affine=True, track_running_stats=True)\n",
            "  (conv2): Conv2d(32, 64, kernel_size=(3, 3), stride=(1, 1), padding=(1, 1))\n",
            "  (batch2): BatchNorm2d(64, eps=1e-05, momentum=0.1, affine=True, track_running_stats=True)\n",
            "  (conv3): Conv2d(64, 128, kernel_size=(3, 3), stride=(1, 1), padding=(1, 1))\n",
            "  (batch3): BatchNorm2d(128, eps=1e-05, momentum=0.1, affine=True, track_running_stats=True)\n",
            "  (conv4): Conv2d(128, 128, kernel_size=(3, 3), stride=(1, 1), padding=(1, 1))\n",
            "  (max_pool): MaxPool2d(kernel_size=2, stride=2, padding=0, dilation=1, ceil_mode=False)\n",
            "  (fully_connected): Sequential(\n",
            "    (0): Linear(in_features=512, out_features=512, bias=True)\n",
            "    (1): LeakyReLU(negative_slope=0.01)\n",
            "    (2): Dropout(p=0.25, inplace=False)\n",
            "    (3): Linear(in_features=512, out_features=512, bias=True)\n",
            "    (4): LeakyReLU(negative_slope=0.01)\n",
            "    (5): Dropout(p=0.25, inplace=False)\n",
            "    (6): Linear(in_features=512, out_features=10, bias=True)\n",
            "    (7): LeakyReLU(negative_slope=0.01)\n",
            "  )\n",
            ")\n"
          ]
        }
      ]
    },
    {
      "cell_type": "code",
      "source": [
        "model = NeuralNetwork().to(device)\n",
        "print(model)"
      ],
      "metadata": {
        "colab": {
          "base_uri": "https://localhost:8080/"
        },
        "id": "9VCRYYcXFb9N",
        "outputId": "56be228e-c64d-41d5-97eb-315ed8baa8e7"
      },
      "execution_count": null,
      "outputs": [
        {
          "output_type": "stream",
          "name": "stdout",
          "text": [
            "NeuralNetwork(\n",
            "  (flatten): Flatten(start_dim=1, end_dim=-1)\n",
            "  (lrelu): LeakyReLU(negative_slope=0.01)\n",
            "  (conv1): Conv2d(3, 32, kernel_size=(3, 3), stride=(1, 1), padding=(1, 1))\n",
            "  (batch1): BatchNorm2d(32, eps=1e-05, momentum=0.1, affine=True, track_running_stats=True)\n",
            "  (conv2): Conv2d(32, 64, kernel_size=(3, 3), stride=(1, 1), padding=(1, 1))\n",
            "  (batch2): BatchNorm2d(64, eps=1e-05, momentum=0.1, affine=True, track_running_stats=True)\n",
            "  (conv3): Conv2d(64, 128, kernel_size=(3, 3), stride=(1, 1), padding=(1, 1))\n",
            "  (batch3): BatchNorm2d(128, eps=1e-05, momentum=0.1, affine=True, track_running_stats=True)\n",
            "  (conv4): Conv2d(128, 128, kernel_size=(3, 3), stride=(1, 1), padding=(1, 1))\n",
            "  (max_pool): MaxPool2d(kernel_size=2, stride=2, padding=0, dilation=1, ceil_mode=False)\n",
            "  (fully_connected): Sequential(\n",
            "    (0): Linear(in_features=512, out_features=512, bias=True)\n",
            "    (1): LeakyReLU(negative_slope=0.01)\n",
            "    (2): Dropout(p=0.25, inplace=False)\n",
            "    (3): Linear(in_features=512, out_features=512, bias=True)\n",
            "    (4): LeakyReLU(negative_slope=0.01)\n",
            "    (5): Dropout(p=0.25, inplace=False)\n",
            "    (6): Linear(in_features=512, out_features=10, bias=True)\n",
            "    (7): LeakyReLU(negative_slope=0.01)\n",
            "  )\n",
            ")\n"
          ]
        }
      ]
    },
    {
      "cell_type": "markdown",
      "source": [
        "an example "
      ],
      "metadata": {
        "id": "oERuvovTWbBC"
      }
    },
    {
      "cell_type": "code",
      "source": [
        "X = torch.rand(100,3, 32,32, device=\"cuda:0\") \n",
        "X = model(X)\n",
        "# pred_probab = nn.Softmax(dim=1)(logits)\n",
        "# y_pred = pred_probab.argmax(1)\n",
        "# print(f\"Predicted class: {y_pred}\")"
      ],
      "metadata": {
        "id": "YQGUfZSGWXsZ"
      },
      "execution_count": null,
      "outputs": []
    },
    {
      "cell_type": "markdown",
      "source": [
        "loss func an etc"
      ],
      "metadata": {
        "id": "Q-1p30FLqnWn"
      }
    },
    {
      "cell_type": "code",
      "source": [
        "learning_rate = 0.001\n",
        "\n",
        "error = nn.CrossEntropyLoss()\n",
        "\n",
        "optimizer = torch.optim.Adam(model.parameters(), lr=learning_rate)"
      ],
      "metadata": {
        "id": "HwpTyOLlqrLS"
      },
      "execution_count": null,
      "outputs": []
    },
    {
      "cell_type": "code",
      "source": [
        "'''num_epochs = 100\n",
        "loss_values = []\n",
        "\n",
        "\n",
        "for epoch in range(num_epochs):\n",
        "    for X, y in train_loader:\n",
        "        # zero the parameter gradients\n",
        "        optimizer.zero_grad()\n",
        "       \n",
        "        # forward + backward + optimize\n",
        "        pred = model(X)\n",
        "        loss = loss_fn(pred, y.unsqueeze(-1))\n",
        "        loss_values.append(loss.item())\n",
        "        loss.backward()\n",
        "        optimizer.step()\n",
        "\n",
        "print(\"Training Complete\")\n",
        "'''"
      ],
      "metadata": {
        "colab": {
          "base_uri": "https://localhost:8080/",
          "height": 71
        },
        "id": "uDY7Sr1nq6bE",
        "outputId": "748c08fc-1794-4679-8431-3707daa677f5"
      },
      "execution_count": null,
      "outputs": [
        {
          "output_type": "execute_result",
          "data": {
            "text/plain": [
              "'num_epochs = 100\\nloss_values = []\\n\\n\\nfor epoch in range(num_epochs):\\n    for X, y in train_loader:\\n        # zero the parameter gradients\\n        optimizer.zero_grad()\\n       \\n        # forward + backward + optimize\\n        pred = model(X)\\n        loss = loss_fn(pred, y.unsqueeze(-1))\\n        loss_values.append(loss.item())\\n        loss.backward()\\n        optimizer.step()\\n\\nprint(\"Training Complete\")\\n'"
            ],
            "application/vnd.google.colaboratory.intrinsic+json": {
              "type": "string"
            }
          },
          "metadata": {},
          "execution_count": 43
        }
      ]
    },
    {
      "cell_type": "code",
      "source": [
        "num_epochs = 25\n",
        "count = 0\n",
        "# Lists for visualization of loss and accuracy \n",
        "loss_list = []\n",
        "iteration_list = []\n",
        "accuracy_list = []\n",
        "\n",
        "# Lists for knowing classwise accuracy\n",
        "predictions_list = []\n",
        "labels_list = []\n",
        "\n",
        "for epoch in range(num_epochs):\n",
        "    for images, labels in train_loader:\n",
        "        # Transfering images and labels to GPU if available\n",
        "        images, labels = images.to(device), labels.to(device)\n",
        "    \n",
        "        train = Variable(images.view(100, 3, 32, 32))\n",
        "        labels = Variable(labels)\n",
        "        \n",
        "        # Forward pass \n",
        "        outputs = model(train)\n",
        "        loss = error(outputs, labels)\n",
        "        \n",
        "        # Initializing a gradient as 0 so there is no mixing of gradient among the batches\n",
        "        optimizer.zero_grad()\n",
        "        \n",
        "        #Propagating the error backward\n",
        "        loss.backward()\n",
        "        \n",
        "        # Optimizing the parameters\n",
        "        optimizer.step()\n",
        "    \n",
        "        count += 1\n",
        "    \n",
        "    # Testing the model\n",
        "    \n",
        "        if not (count % 50):    # It's same as \"if count % 50 == 0\"\n",
        "            total = 0\n",
        "            correct = 0\n",
        "        \n",
        "            for images, labels in test_loader:\n",
        "                images, labels = images.to(device), labels.to(device)\n",
        "                labels_list.append(labels)\n",
        "            \n",
        "                test = Variable(images.view(100, 3, 32, 32))\n",
        "            \n",
        "                outputs = model(test)\n",
        "            \n",
        "                predictions = torch.max(outputs, 1)[1].to(device)\n",
        "                predictions_list.append(predictions)\n",
        "                correct += (predictions == labels).sum()\n",
        "            \n",
        "                total += len(labels)\n",
        "            \n",
        "            accuracy = correct * 100 / total\n",
        "            loss_list.append(loss.data)\n",
        "            iteration_list.append(count)\n",
        "            accuracy_list.append(accuracy)\n",
        "        \n",
        "        if not (count % 500):\n",
        "            print(\"Iteration: {}, Loss: {}, Accuracy: {}%\".format(count, loss.data, accuracy))"
      ],
      "metadata": {
        "colab": {
          "base_uri": "https://localhost:8080/"
        },
        "id": "Ri24oJr0vXvV",
        "outputId": "af2a6d4f-22e2-4ff3-9c8d-de8caa89934a"
      },
      "execution_count": null,
      "outputs": [
        {
          "output_type": "stream",
          "name": "stdout",
          "text": [
            "Iteration: 500, Loss: 0.8429328203201294, Accuracy: 67.52999877929688%\n",
            "Iteration: 1000, Loss: 0.6910427212715149, Accuracy: 73.98999786376953%\n",
            "Iteration: 1500, Loss: 0.609462559223175, Accuracy: 76.75999450683594%\n",
            "Iteration: 2000, Loss: 0.5018664002418518, Accuracy: 78.6199951171875%\n",
            "Iteration: 2500, Loss: 0.36719435453414917, Accuracy: 79.75%\n",
            "Iteration: 3000, Loss: 0.3434300124645233, Accuracy: 79.9000015258789%\n",
            "Iteration: 3500, Loss: 0.2888079881668091, Accuracy: 80.05999755859375%\n",
            "Iteration: 4000, Loss: 0.27471354603767395, Accuracy: 79.1199951171875%\n",
            "Iteration: 4500, Loss: 0.21934622526168823, Accuracy: 79.4000015258789%\n",
            "Iteration: 5000, Loss: 0.25995582342147827, Accuracy: 79.87999725341797%\n",
            "Iteration: 5500, Loss: 0.1472151130437851, Accuracy: 80.11000061035156%\n",
            "Iteration: 6000, Loss: 0.12657427787780762, Accuracy: 80.61000061035156%\n",
            "Iteration: 6500, Loss: 0.09406538307666779, Accuracy: 80.94999694824219%\n",
            "Iteration: 7000, Loss: 0.15051813423633575, Accuracy: 81.11000061035156%\n",
            "Iteration: 7500, Loss: 0.06617433577775955, Accuracy: 81.50999450683594%\n",
            "Iteration: 8000, Loss: 0.09054208546876907, Accuracy: 81.07999420166016%\n",
            "Iteration: 8500, Loss: 0.13440632820129395, Accuracy: 81.23999786376953%\n",
            "Iteration: 9000, Loss: 0.1050667017698288, Accuracy: 80.48999786376953%\n",
            "Iteration: 9500, Loss: 0.04814542829990387, Accuracy: 81.15999603271484%\n",
            "Iteration: 10000, Loss: 0.09456837922334671, Accuracy: 81.27999877929688%\n",
            "Iteration: 10500, Loss: 0.05015186220407486, Accuracy: 81.02999877929688%\n",
            "Iteration: 11000, Loss: 0.13356243073940277, Accuracy: 81.25%\n",
            "Iteration: 11500, Loss: 0.09187900274991989, Accuracy: 80.22999572753906%\n",
            "Iteration: 12000, Loss: 0.08838775008916855, Accuracy: 80.43999481201172%\n",
            "Iteration: 12500, Loss: 0.022915715351700783, Accuracy: 80.4000015258789%\n"
          ]
        }
      ]
    },
    {
      "cell_type": "markdown",
      "source": [
        "\n",
        "\n",
        "**Training Complete**"
      ],
      "metadata": {
        "id": "u8oqlFiTrgWo"
      }
    },
    {
      "cell_type": "code",
      "source": [
        "if device != \"cpu\" :\n",
        "  for ii in range(0,len(loss_list)):\n",
        "    loss_list[ii]=loss_list[ii].cpu()\n",
        "plt.plot(iteration_list, loss_list)\n",
        "plt.xlabel(\"No. of Iteration\")\n",
        "plt.ylabel(\"Loss\")\n",
        "plt.title(\"Iterations vs Loss\")\n",
        "plt.show()"
      ],
      "metadata": {
        "colab": {
          "base_uri": "https://localhost:8080/",
          "height": 295
        },
        "id": "0FNvA8arrpjx",
        "outputId": "d8f831ab-0843-4f70-8a20-f267db1dbb11"
      },
      "execution_count": null,
      "outputs": [
        {
          "output_type": "display_data",
          "data": {
            "text/plain": [
              "<Figure size 432x288 with 1 Axes>"
            ],
            "image/png": "[encoded data removed]"
          },
          "metadata": {
            "needs_background": "light"
          }
        }
      ]
    },
    {
      "cell_type": "code",
      "source": [
        "if device != \"cpu\" :\n",
        "  for ii in range(0,len(accuracy_list)):\n",
        "    accuracy_list[ii]=accuracy_list[ii].cpu()\n",
        "plt.plot(iteration_list, accuracy_list)\n",
        "plt.xlabel(\"No. of Iteration\")\n",
        "plt.ylabel(\"Accuracy\")\n",
        "plt.title(\"Iterations vs Accuracy\")\n",
        "plt.show()"
      ],
      "metadata": {
        "colab": {
          "base_uri": "https://localhost:8080/",
          "height": 295
        },
        "id": "t6ucKfJMmh6d",
        "outputId": "0be59f7b-69ab-4205-d89c-54215a468dc1"
      },
      "execution_count": null,
      "outputs": [
        {
          "output_type": "display_data",
          "data": {
            "text/plain": [
              "<Figure size 432x288 with 1 Axes>"
            ],
            "image/png": "[encoded data removed]"
          },
          "metadata": {
            "needs_background": "light"
          }
        }
      ]
    },
    {
      "cell_type": "markdown",
      "source": [
        "Looking the Accuracy in each class of 10cifar dataset"
      ],
      "metadata": {
        "id": "2nKTrYsc3gDX"
      }
    },
    {
      "cell_type": "code",
      "source": [
        "class_correct = [0. for _ in range(10)]\n",
        "total_correct = [0. for _ in range(10)]\n",
        "\n",
        "with torch.no_grad():\n",
        "    for images, labels in test_loader:\n",
        "        images, labels = images.to(device), labels.to(device)\n",
        "        test = Variable(images)\n",
        "        outputs = model(test)\n",
        "        predicted = torch.max(outputs, 1)[1]\n",
        "        c = (predicted == labels).squeeze()\n",
        "        \n",
        "        for i in range(100):\n",
        "            label = labels[i]\n",
        "            class_correct[label] += c[i].item()\n",
        "            total_correct[label] += 1\n",
        "        \n",
        "for i in range(10):\n",
        "    print(\" {}: {:.2f}%\".format(output_label(i), class_correct[i] * 100 / total_correct[i]))"
      ],
      "metadata": {
        "colab": {
          "base_uri": "https://localhost:8080/"
        },
        "id": "RnAfDxuB3hLU",
        "outputId": "023908cc-e19f-46b1-e0d2-a2e63f90a927"
      },
      "execution_count": null,
      "outputs": [
        {
          "output_type": "stream",
          "name": "stdout",
          "text": [
            " airplane: 76.90%\n",
            " automobile: 86.60%\n",
            " bird: 69.70%\n",
            " cat: 61.10%\n",
            " deer: 78.70%\n",
            " dog: 69.00%\n",
            " frog: 85.80%\n",
            " horse: 81.50%\n",
            " ship: 91.20%\n",
            " truck: 89.80%\n"
          ]
        }
      ]
    }
  ]
}